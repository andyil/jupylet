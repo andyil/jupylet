{
 "cells": [
  {
   "cell_type": "markdown",
   "metadata": {},
   "source": [
    "# Spaceships\n",
    "\n",
    "This Jupyter notebook demonstrates making a simple game with Jupylet. "
   ]
  },
  {
   "cell_type": "markdown",
   "metadata": {},
   "source": [
    "### How to use Jupyter notebooks\n",
    "\n",
    "If you are unfamiliar with Jupyter notebooks open the [*hello-world.ipynb*](./hello-world.ipynb) notebook which introduces the Jupyter notebook user inteface."
   ]
  },
  {
   "cell_type": "markdown",
   "metadata": {},
   "source": [
    "### Run the game\n",
    "\n",
    "Run this notebook and see what happens. Later when you are ready come back here to read the game code.  \n",
    "\n",
    "To run the game click `Cell` in the menubar above and selct `Run All` from the drop down list. The notebook will scroll to the bottom where a game canvas should appear with the spaceship. Click the game canvas to bring it into focus and then use the arrow keys to navigate the ship."
   ]
  },
  {
   "cell_type": "markdown",
   "metadata": {},
   "source": [
    "### The game code\n",
    "\n",
    "The code begins with a few import statements. These let us use code from other libraries and modules. In programming this is called boiler plate code since we do it again and again in every program. You can find more about these python modules by searching for them in google. For example to learn about the _math_ module search google for [_python math module_](https://www.google.com/search?q=python+math+module). One of the first results should be a link to the [documentation of the math module](https://docs.python.org/3/library/math.html). It is a collection of math related things. For example evaluating _math.pi_ returns the value of &#960;."
   ]
  },
  {
   "cell_type": "code",
   "execution_count": 1,
   "metadata": {},
   "outputs": [],
   "source": [
    "import pyglet\n",
    "import math\n",
    "import sys\n",
    "import os"
   ]
  },
  {
   "cell_type": "code",
   "execution_count": 2,
   "metadata": {},
   "outputs": [],
   "source": [
    "p0 = os.path.abspath('.')\n",
    "p1 = os.path.abspath(os.path.join(p0, '..'))\n",
    "\n",
    "sys.path.insert(0, p1)"
   ]
  },
  {
   "cell_type": "code",
   "execution_count": 3,
   "metadata": {},
   "outputs": [],
   "source": [
    "from jupylet.app import App\n",
    "from jupylet.label import Label\n",
    "from jupylet.sprite import Sprite"
   ]
  },
  {
   "cell_type": "code",
   "execution_count": 4,
   "metadata": {},
   "outputs": [],
   "source": [
    "import pyglet.window.key as key"
   ]
  },
  {
   "cell_type": "code",
   "execution_count": null,
   "metadata": {},
   "outputs": [],
   "source": []
  },
  {
   "cell_type": "markdown",
   "metadata": {},
   "source": [
    "Next, we create an application object. We do this with the _App_ class that we imported above from the _jupylet.app_ module. Note the `mode` argument tells Jupylet we want the game \"screen\" to display in the notebook. If we specify `mode='window'` instead the game will run in a separate window."
   ]
  },
  {
   "cell_type": "code",
   "execution_count": 5,
   "metadata": {},
   "outputs": [],
   "source": [
    "app = App(mode='jupyter')"
   ]
  },
  {
   "cell_type": "code",
   "execution_count": 6,
   "metadata": {},
   "outputs": [],
   "source": [
    "window = app.window"
   ]
  },
  {
   "cell_type": "code",
   "execution_count": 7,
   "metadata": {},
   "outputs": [],
   "source": [
    "WIDTH = app.width\n",
    "HEIGHT = app.height"
   ]
  },
  {
   "cell_type": "code",
   "execution_count": null,
   "metadata": {},
   "outputs": [],
   "source": []
  },
  {
   "cell_type": "code",
   "execution_count": 8,
   "metadata": {},
   "outputs": [],
   "source": [
    "stars = Sprite('stars.png', scale=2.5)\n",
    "alien = Sprite('alien.png', scale=0.5)\n",
    "ship = Sprite('ship1.png', x=WIDTH/2, y=HEIGHT/2, scale=0.5)\n",
    "moon = Sprite('moon.png', x=WIDTH-70, y=HEIGHT-70, scale=0.5)"
   ]
  },
  {
   "cell_type": "code",
   "execution_count": 9,
   "metadata": {},
   "outputs": [],
   "source": [
    "circle = Sprite('yellow-circle.png', width=184)\n",
    "circle.opacity = 0"
   ]
  },
  {
   "cell_type": "code",
   "execution_count": null,
   "metadata": {},
   "outputs": [],
   "source": []
  },
  {
   "cell_type": "code",
   "execution_count": 10,
   "metadata": {},
   "outputs": [],
   "source": [
    "label = Label('Hello World!', color='cyan', font_size=16, x=10, y=10)"
   ]
  },
  {
   "cell_type": "code",
   "execution_count": 11,
   "metadata": {},
   "outputs": [],
   "source": [
    "@app.event\n",
    "def on_draw():\n",
    "    \n",
    "    window.clear()\n",
    "    \n",
    "    stars.draw()\n",
    "    moon.draw()\n",
    "    \n",
    "    label.draw()\n",
    "\n",
    "    circle.draw()\n",
    "    alien.draw()\n",
    "    ship.draw()"
   ]
  },
  {
   "cell_type": "code",
   "execution_count": 12,
   "metadata": {},
   "outputs": [],
   "source": [
    "@app.event\n",
    "def on_mouse_motion(x, y, dx, dy):\n",
    "    \n",
    "    alien.x = x\n",
    "    alien.y = y\n",
    "    \n",
    "    circle.x = x\n",
    "    circle.y = y\n",
    "    \n",
    "    \n",
    "@app.run_me_again_and_again(1/36)\n",
    "def update_alien(dt):\n",
    "    alien.rotation += dt * 36"
   ]
  },
  {
   "cell_type": "code",
   "execution_count": 13,
   "metadata": {},
   "outputs": [],
   "source": [
    "vx = 0\n",
    "vy = 0\n",
    "\n",
    "up = 0\n",
    "left = 0\n",
    "right = 0"
   ]
  },
  {
   "cell_type": "code",
   "execution_count": 14,
   "metadata": {},
   "outputs": [],
   "source": [
    "@app.run_me_again_and_again(1/120)\n",
    "def update_ship(dt):\n",
    "    \n",
    "    global vx, vy\n",
    "\n",
    "    if left:\n",
    "        ship.rotation -= 2\n",
    "        \n",
    "    if right:\n",
    "        ship.rotation += 2\n",
    "        \n",
    "    if up:\n",
    "        vx += 3 * math.cos((90 - ship.rotation) / 180 * math.pi)\n",
    "        vy += 3 * math.sin((90 - ship.rotation) / 180 * math.pi)\n",
    "\n",
    "    ship.x += vx * dt\n",
    "    ship.y += vy * dt\n",
    "    \n",
    "    ship.wrap_position(WIDTH, HEIGHT)\n",
    "    \n",
    "    if len(ship.collisions_with(alien)) > 0:\n",
    "        circle.opacity = 128\n",
    "    else:\n",
    "        circle.opacity = 0"
   ]
  },
  {
   "cell_type": "code",
   "execution_count": 15,
   "metadata": {},
   "outputs": [],
   "source": [
    "@app.event\n",
    "def on_key_press(symbol, modifiers):\n",
    "    \n",
    "    global up, left, right\n",
    "    \n",
    "    if symbol == key.UP:\n",
    "        ship.image = 'ship2.png'\n",
    "        up = True\n",
    "\n",
    "    if symbol == key.LEFT:\n",
    "        left = True\n",
    "        \n",
    "    if symbol == key.RIGHT:\n",
    "        right = True\n",
    "        \n",
    "\n",
    "@app.event\n",
    "def on_key_release(symbol, modifiers):\n",
    "    \n",
    "    global up, left, right\n",
    "    \n",
    "    if symbol == key.UP:\n",
    "        ship.image = 'ship1.png'\n",
    "        up = False\n",
    "        \n",
    "    if symbol == key.LEFT:\n",
    "        left = False\n",
    "        \n",
    "    if symbol == key.RIGHT:\n",
    "        right = False"
   ]
  },
  {
   "cell_type": "code",
   "execution_count": 16,
   "metadata": {
    "scrolled": false
   },
   "outputs": [
    {
     "data": {
      "application/vnd.jupyter.widget-view+json": {
       "model_id": "1ea68dbb4a8b405184f93755369bd8e2",
       "version_major": 2,
       "version_minor": 0
      },
      "text/plain": [
       "Canvas(height=512, width=512)"
      ]
     },
     "metadata": {},
     "output_type": "display_data"
    }
   ],
   "source": [
    "app.run()"
   ]
  },
  {
   "cell_type": "code",
   "execution_count": null,
   "metadata": {},
   "outputs": [],
   "source": []
  },
  {
   "cell_type": "code",
   "execution_count": 17,
   "metadata": {},
   "outputs": [
    {
     "name": "stderr",
     "output_type": "stream",
     "text": [
      "Ignoring call to stop() since it appears to have been done accidentally."
     ]
    }
   ],
   "source": [
    "app.stop()"
   ]
  },
  {
   "cell_type": "code",
   "execution_count": null,
   "metadata": {},
   "outputs": [],
   "source": []
  }
 ],
 "metadata": {
  "kernelspec": {
   "display_name": "Python 3",
   "language": "python",
   "name": "python3"
  },
  "language_info": {
   "codemirror_mode": {
    "name": "ipython",
    "version": 3
   },
   "file_extension": ".py",
   "mimetype": "text/x-python",
   "name": "python",
   "nbconvert_exporter": "python",
   "pygments_lexer": "ipython3",
   "version": "3.7.4"
  }
 },
 "nbformat": 4,
 "nbformat_minor": 2
}
