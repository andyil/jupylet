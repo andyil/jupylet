{
 "cells": [
  {
   "cell_type": "markdown",
   "metadata": {},
   "source": [
    "### Pong\n",
    "\n",
    "Run this notebook and see what happens. \n",
    "\n",
    "Click the game canvas once it shows up to bring it into focus and then use the arrows and keys A and D to control the pedals.\n",
    "\n",
    "* pong sound is by [freesound](https://freesound.org/people/NoiseCollector/sounds/4359/).\n",
    "* Commodore 64 font is by [KreativeKorp](https://www.kreativekorp.com/software/fonts/c64.shtml)."
   ]
  },
  {
   "cell_type": "code",
   "execution_count": null,
   "metadata": {},
   "outputs": [],
   "source": []
  },
  {
   "cell_type": "code",
   "execution_count": 1,
   "metadata": {},
   "outputs": [],
   "source": [
    "import pyglet\n",
    "import math\n",
    "import time\n",
    "import sys\n",
    "import os\n",
    "\n",
    "import PIL.Image\n",
    "\n",
    "import numpy as np"
   ]
  },
  {
   "cell_type": "code",
   "execution_count": 2,
   "metadata": {},
   "outputs": [],
   "source": [
    "p0 = os.path.abspath('.')\n",
    "p1 = os.path.abspath(os.path.join(p0, '..'))\n",
    "\n",
    "sys.path.insert(0, p1)"
   ]
  },
  {
   "cell_type": "code",
   "execution_count": 3,
   "metadata": {},
   "outputs": [],
   "source": [
    "import jupylet.color\n",
    "\n",
    "from jupylet.app import App, State\n",
    "from jupylet.label import Label\n",
    "from jupylet.sprite import Sprite"
   ]
  },
  {
   "cell_type": "code",
   "execution_count": 4,
   "metadata": {},
   "outputs": [],
   "source": [
    "import pyglet.window.key as key"
   ]
  },
  {
   "cell_type": "code",
   "execution_count": null,
   "metadata": {},
   "outputs": [],
   "source": []
  },
  {
   "cell_type": "code",
   "execution_count": 5,
   "metadata": {},
   "outputs": [],
   "source": [
    "app = App(mode='jupyter', quality=20)"
   ]
  },
  {
   "cell_type": "code",
   "execution_count": 6,
   "metadata": {},
   "outputs": [],
   "source": [
    "window = app.window"
   ]
  },
  {
   "cell_type": "code",
   "execution_count": null,
   "metadata": {},
   "outputs": [],
   "source": []
  },
  {
   "cell_type": "code",
   "execution_count": 7,
   "metadata": {},
   "outputs": [],
   "source": [
    "WIDTH = app.width\n",
    "HEIGHT = app.height"
   ]
  },
  {
   "cell_type": "code",
   "execution_count": null,
   "metadata": {},
   "outputs": [],
   "source": []
  },
  {
   "cell_type": "code",
   "execution_count": 8,
   "metadata": {},
   "outputs": [],
   "source": [
    "background = '#3e32a2'\n",
    "foreground = '#7c71da'"
   ]
  },
  {
   "cell_type": "code",
   "execution_count": 9,
   "metadata": {},
   "outputs": [],
   "source": [
    "app.set_window_color(foreground)"
   ]
  },
  {
   "cell_type": "code",
   "execution_count": null,
   "metadata": {},
   "outputs": [],
   "source": []
  },
  {
   "cell_type": "code",
   "execution_count": 10,
   "metadata": {},
   "outputs": [],
   "source": [
    "a0 = np.ones((32, 32)) * 255\n",
    "a1 = np.ones((128, 16)) * 255\n",
    "a2 = np.ones((HEIGHT * 9 // 10, WIDTH * 9 // 10, 3)) * jupylet.color.color2rgb(background)[:3]"
   ]
  },
  {
   "cell_type": "code",
   "execution_count": 11,
   "metadata": {},
   "outputs": [],
   "source": [
    "ball = Sprite(a0, y=HEIGHT/2, x=WIDTH/2, autocrop=True)\n",
    "\n",
    "padl = Sprite(a1, y=HEIGHT/2, x=48)\n",
    "padr = Sprite(a1, y=HEIGHT/2, x=WIDTH-48)\n",
    "\n",
    "field = Sprite(a2, y=HEIGHT/2, x=WIDTH/2) "
   ]
  },
  {
   "cell_type": "code",
   "execution_count": 12,
   "metadata": {},
   "outputs": [],
   "source": [
    "sound = pyglet.media.load('sounds/pong-blip.wav', streaming=False)"
   ]
  },
  {
   "cell_type": "code",
   "execution_count": null,
   "metadata": {},
   "outputs": [],
   "source": []
  },
  {
   "cell_type": "code",
   "execution_count": 13,
   "metadata": {},
   "outputs": [],
   "source": [
    "pyglet.font.add_file('fonts/PetMe64.ttf')"
   ]
  },
  {
   "cell_type": "code",
   "execution_count": 14,
   "metadata": {},
   "outputs": [],
   "source": [
    "scorel = Label(\n",
    "    '0', font_name='Pet Me 64', font_size=42, color=foreground, \n",
    "    x=64, y=HEIGHT/2, anchor_y='center', anchor_x='left'\n",
    ")\n",
    "\n",
    "scorer = Label(\n",
    "    '0', font_name='Pet Me 64', font_size=42, color=foreground, \n",
    "    x=WIDTH-64, y=HEIGHT/2, anchor_y='center', anchor_x='right'\n",
    ")"
   ]
  },
  {
   "cell_type": "code",
   "execution_count": null,
   "metadata": {},
   "outputs": [],
   "source": []
  },
  {
   "cell_type": "code",
   "execution_count": 15,
   "metadata": {},
   "outputs": [],
   "source": [
    "@app.event\n",
    "def on_draw():\n",
    "    \n",
    "    window.clear()\n",
    "    \n",
    "    field.draw()\n",
    "    \n",
    "    scorel.draw()\n",
    "    scorer.draw()\n",
    "    \n",
    "    ball.draw()\n",
    "    padl.draw()\n",
    "    padr.draw()"
   ]
  },
  {
   "cell_type": "code",
   "execution_count": null,
   "metadata": {},
   "outputs": [],
   "source": []
  },
  {
   "cell_type": "code",
   "execution_count": 16,
   "metadata": {},
   "outputs": [],
   "source": [
    "state = State(\n",
    "    \n",
    "    sl = 0,\n",
    "    sr = 0,\n",
    "    \n",
    "    bvx = 192,\n",
    "    bvy = 192,\n",
    "    \n",
    "    vyl = 0,\n",
    "    pyl = HEIGHT/2,\n",
    "\n",
    "    vyr = 0,\n",
    "    pyr = HEIGHT/2,\n",
    "\n",
    "    left = False,\n",
    "    right = False,\n",
    "\n",
    "    key_a = False,\n",
    "    key_d = False,\n",
    ")"
   ]
  },
  {
   "cell_type": "code",
   "execution_count": null,
   "metadata": {},
   "outputs": [],
   "source": []
  },
  {
   "cell_type": "code",
   "execution_count": 17,
   "metadata": {},
   "outputs": [],
   "source": [
    "@app.event\n",
    "def on_key_press(symbol, modifiers):\n",
    "        \n",
    "    if symbol == key.LEFT:\n",
    "        state.left = True\n",
    "        \n",
    "    if symbol == key.RIGHT:\n",
    "        state.right = True\n",
    "        \n",
    "    if symbol == key.A:\n",
    "        state.key_a = True\n",
    "        \n",
    "    if symbol == key.D:\n",
    "        state.key_d = True\n",
    "        \n",
    "\n",
    "@app.event\n",
    "def on_key_release(symbol, modifiers):\n",
    "    \n",
    "    if symbol == key.LEFT:\n",
    "        state.left = False\n",
    "        \n",
    "    if symbol == key.RIGHT:\n",
    "        state.right = False\n",
    "\n",
    "    if symbol == key.A:\n",
    "        state.key_a = False\n",
    "        \n",
    "    if symbol == key.D:\n",
    "        state.key_d = False\n",
    "        \n",
    "\n",
    "@app.run_me_again_and_again(1/120)\n",
    "def update_pads(dt):\n",
    "        \n",
    "    if state.right:\n",
    "        state.pyr = min(HEIGHT, state.pyr + dt * 512)\n",
    "        \n",
    "    if state.left:\n",
    "        state.pyr = max(0, state.pyr - dt * 512)\n",
    "        \n",
    "    if state.key_a:\n",
    "        state.pyl = min(HEIGHT, state.pyl + dt * 512)\n",
    "        \n",
    "    if state.key_d:\n",
    "        state.pyl = max(0, state.pyl - dt * 512)\n",
    "        \n",
    "    ayl = 200 * (state.pyl - padl.y)\n",
    "    ayr = 200 * (state.pyr - padr.y)\n",
    "\n",
    "    state.vyl = state.vyl * 0.9 + (ayl * dt)\n",
    "    state.vyr = state.vyr * 0.9 + (ayr * dt)\n",
    "    \n",
    "    padl.y += state.vyl * dt\n",
    "    padr.y += state.vyr * dt\n",
    "    \n",
    "    padr.clip_position(WIDTH, HEIGHT)\n",
    "    padl.clip_position(WIDTH, HEIGHT)"
   ]
  },
  {
   "cell_type": "code",
   "execution_count": null,
   "metadata": {},
   "outputs": [],
   "source": []
  },
  {
   "cell_type": "code",
   "execution_count": 18,
   "metadata": {},
   "outputs": [],
   "source": [
    "@app.run_me_again_and_again(1/120)\n",
    "def update_ball(dt):\n",
    "    \n",
    "    bs0 = state.bvx ** 2 + state.bvy ** 2\n",
    "    \n",
    "    ball.rotation += 200 * dt\n",
    "    \n",
    "    ball.x += state.bvx * dt\n",
    "    ball.y += state.bvy * dt\n",
    "    \n",
    "    if ball.top >= HEIGHT:\n",
    "        app.play_once(sound)\n",
    "        ball.y -= ball.top - HEIGHT\n",
    "        state.bvy = -state.bvy\n",
    "        \n",
    "    if ball.bottom <= 0:\n",
    "        app.play_once(sound)\n",
    "        ball.y -= ball.bottom\n",
    "        state.bvy = -state.bvy\n",
    "        \n",
    "    if ball.right >= WIDTH:\n",
    "        app.play_once(sound)\n",
    "        ball.x -= ball.right - WIDTH\n",
    "        \n",
    "        state.bvx = -192\n",
    "        state.bvy = 192 * np.sign(state.bvy)\n",
    "        bs0 = 0\n",
    "        \n",
    "        state.sl += 1\n",
    "        scorel.text = str(state.sl)\n",
    "        \n",
    "    if ball.left <= 0:\n",
    "        app.play_once(sound)\n",
    "        ball.x -= ball.left\n",
    "        \n",
    "        state.bvx = 192\n",
    "        state.bvy = 192 * np.sign(state.bvy)\n",
    "        bs0 = 0\n",
    "        \n",
    "        state.sr += 1\n",
    "        scorer.text = str(state.sr)\n",
    "        \n",
    "    if state.bvx > 0 and ball.top >= padr.bottom and padr.top >= ball.bottom: \n",
    "        if 0 < ball.right - padr.left < 10:\n",
    "            app.play_once(sound)\n",
    "            ball.x -= ball.right - padr.left\n",
    "            state.bvx = -state.bvx\n",
    "            state.bvy += state.vyr / 2\n",
    "            \n",
    "    if state.bvx < 0 and ball.top >= padl.bottom and padl.top >= ball.bottom: \n",
    "        if 0 < padl.right - ball.left < 10:\n",
    "            app.play_once(sound)\n",
    "            ball.x += ball.left - padl.right\n",
    "            state.bvx = -state.bvx\n",
    "            state.bvy += state.vyl / 2\n",
    "            \n",
    "    bs1 = state.bvx ** 2 + state.bvy ** 2\n",
    "    \n",
    "    if bs1 < 0.9 * bs0:\n",
    "        state.bvx = (bs0 - state.bvy ** 2) ** 0.5 * np.sign(state.bvx)\n",
    "\n",
    "    ball.wrap_position(WIDTH, HEIGHT)"
   ]
  },
  {
   "cell_type": "code",
   "execution_count": 19,
   "metadata": {},
   "outputs": [],
   "source": [
    "@app.run_me_now()\n",
    "def highlights(dt):\n",
    "    \n",
    "    sl0 = state.sl\n",
    "    sr0 = state.sr\n",
    "    \n",
    "    slc = np.array(scorel.color)\n",
    "    src = np.array(scorer.color)\n",
    "    \n",
    "    while True:\n",
    "        \n",
    "        dt = yield 1/30\n",
    "        \n",
    "        r0 = 0.9 ** (120 * dt)\n",
    "        \n",
    "        scorel.color = np.array(scorel.color) * r0 + (1 - r0) * slc\n",
    "        scorer.color = np.array(scorer.color) * r0 + (1 - r0) * src\n",
    "        \n",
    "        if sl0 != state.sl:\n",
    "            sl0 = state.sl\n",
    "            scorel.color = 'white'\n",
    "\n",
    "        if sr0 != state.sr:\n",
    "            sr0 = state.sr\n",
    "            scorer.color = 'white'\n",
    "            "
   ]
  },
  {
   "cell_type": "code",
   "execution_count": 20,
   "metadata": {
    "scrolled": false
   },
   "outputs": [
    {
     "data": {
      "application/vnd.jupyter.widget-view+json": {
       "model_id": "b93712b429ee46b6b88c155a592220ea",
       "version_major": 2,
       "version_minor": 0
      },
      "text/plain": [
       "Canvas(height=512, width=512)"
      ]
     },
     "metadata": {},
     "output_type": "display_data"
    }
   ],
   "source": [
    "app.run()"
   ]
  },
  {
   "cell_type": "code",
   "execution_count": null,
   "metadata": {},
   "outputs": [],
   "source": []
  },
  {
   "cell_type": "code",
   "execution_count": 21,
   "metadata": {},
   "outputs": [
    {
     "name": "stderr",
     "output_type": "stream",
     "text": [
      "Ignoring call to stop() since it appears to have been done accidentally."
     ]
    }
   ],
   "source": [
    "app.stop()"
   ]
  },
  {
   "cell_type": "code",
   "execution_count": null,
   "metadata": {},
   "outputs": [],
   "source": []
  },
  {
   "cell_type": "code",
   "execution_count": null,
   "metadata": {},
   "outputs": [],
   "source": []
  }
 ],
 "metadata": {
  "kernelspec": {
   "display_name": "Python 3",
   "language": "python",
   "name": "python3"
  },
  "language_info": {
   "codemirror_mode": {
    "name": "ipython",
    "version": 3
   },
   "file_extension": ".py",
   "mimetype": "text/x-python",
   "name": "python",
   "nbconvert_exporter": "python",
   "pygments_lexer": "ipython3",
   "version": "3.7.4"
  }
 },
 "nbformat": 4,
 "nbformat_minor": 2
}
